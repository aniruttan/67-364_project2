{
 "cells": [
  {
   "cell_type": "code",
   "execution_count": 6,
   "metadata": {
    "collapsed": false
   },
   "outputs": [],
   "source": [
    "import csv\n",
    "import numpy as np\n",
    "import tweepy\n",
    "import requests\n",
    "from sklearn.svm import SVR\n",
    "import matplotlib.pyplot as plt\n",
    "import pandas as pd\n",
    "from datetime import datetime \n",
    "from sklearn.model_selection import cross_val_score\n",
    "%matplotlib inline"
   ]
  },
  {
   "cell_type": "code",
   "execution_count": 7,
   "metadata": {
    "collapsed": false
   },
   "outputs": [],
   "source": [
    "# df = pd.read_csv('aapl.csv')\n",
    "df = pd.read_csv('ual.csv')"
   ]
  },
  {
   "cell_type": "code",
   "execution_count": 8,
   "metadata": {
    "collapsed": false
   },
   "outputs": [
    {
     "data": {
      "text/html": [
       "<div>\n",
       "<table border=\"1\" class=\"dataframe\">\n",
       "  <thead>\n",
       "    <tr style=\"text-align: right;\">\n",
       "      <th></th>\n",
       "      <th>Date</th>\n",
       "      <th>Open</th>\n",
       "      <th>High</th>\n",
       "      <th>Low</th>\n",
       "      <th>Close</th>\n",
       "      <th>Volume</th>\n",
       "    </tr>\n",
       "  </thead>\n",
       "  <tbody>\n",
       "    <tr>\n",
       "      <th>0</th>\n",
       "      <td>13-Apr-17</td>\n",
       "      <td>69.90</td>\n",
       "      <td>70.14</td>\n",
       "      <td>69.07</td>\n",
       "      <td>69.07</td>\n",
       "      <td>5185216</td>\n",
       "    </tr>\n",
       "    <tr>\n",
       "      <th>1</th>\n",
       "      <td>12-Apr-17</td>\n",
       "      <td>71.65</td>\n",
       "      <td>71.73</td>\n",
       "      <td>69.69</td>\n",
       "      <td>69.93</td>\n",
       "      <td>7622861</td>\n",
       "    </tr>\n",
       "    <tr>\n",
       "      <th>2</th>\n",
       "      <td>11-Apr-17</td>\n",
       "      <td>70.15</td>\n",
       "      <td>70.72</td>\n",
       "      <td>68.36</td>\n",
       "      <td>70.71</td>\n",
       "      <td>17696474</td>\n",
       "    </tr>\n",
       "    <tr>\n",
       "      <th>3</th>\n",
       "      <td>10-Apr-17</td>\n",
       "      <td>70.55</td>\n",
       "      <td>72.10</td>\n",
       "      <td>70.25</td>\n",
       "      <td>71.52</td>\n",
       "      <td>3460363</td>\n",
       "    </tr>\n",
       "    <tr>\n",
       "      <th>4</th>\n",
       "      <td>7-Apr-17</td>\n",
       "      <td>69.97</td>\n",
       "      <td>71.02</td>\n",
       "      <td>69.72</td>\n",
       "      <td>70.88</td>\n",
       "      <td>2471072</td>\n",
       "    </tr>\n",
       "  </tbody>\n",
       "</table>\n",
       "</div>"
      ],
      "text/plain": [
       "        Date   Open   High    Low  Close    Volume\n",
       "0  13-Apr-17  69.90  70.14  69.07  69.07   5185216\n",
       "1  12-Apr-17  71.65  71.73  69.69  69.93   7622861\n",
       "2  11-Apr-17  70.15  70.72  68.36  70.71  17696474\n",
       "3  10-Apr-17  70.55  72.10  70.25  71.52   3460363\n",
       "4   7-Apr-17  69.97  71.02  69.72  70.88   2471072"
      ]
     },
     "execution_count": 8,
     "metadata": {},
     "output_type": "execute_result"
    }
   ],
   "source": [
    "df.head()"
   ]
  },
  {
   "cell_type": "code",
   "execution_count": 9,
   "metadata": {
    "collapsed": false
   },
   "outputs": [
    {
     "data": {
      "text/plain": [
       "Date       object\n",
       "Open      float64\n",
       "High      float64\n",
       "Low       float64\n",
       "Close     float64\n",
       "Volume      int64\n",
       "dtype: object"
      ]
     },
     "execution_count": 9,
     "metadata": {},
     "output_type": "execute_result"
    }
   ],
   "source": [
    "df.dtypes"
   ]
  },
  {
   "cell_type": "code",
   "execution_count": 10,
   "metadata": {
    "collapsed": false,
    "scrolled": true
   },
   "outputs": [],
   "source": [
    "# df['Date']=df['Date'].to_datetime(df[\"Date\"],format='%d%b%Y')\n",
    "dates = [(pd.to_datetime(date)).toordinal() for date in df['Date']]\n",
    "prices = pd.Series(df['Open'])\n",
    "dates = np.reshape(dates,(len(dates),1))"
   ]
  },
  {
   "cell_type": "code",
   "execution_count": 11,
   "metadata": {
    "collapsed": false
   },
   "outputs": [
    {
     "data": {
      "text/plain": [
       "<matplotlib.legend.Legend at 0x11247d278>"
      ]
     },
     "execution_count": 11,
     "metadata": {},
     "output_type": "execute_result"
    },
    {
     "data": {
      "image/png": "[encoded data removed]",
      "text/plain": [
       "<matplotlib.figure.Figure at 0x10a102128>"
      ]
     },
     "metadata": {},
     "output_type": "display_data"
    }
   ],
   "source": [
    "svr_lin = SVR(kernel = 'linear',C=1e3)\n",
    "svr_lin.fit(dates,prices)\n",
    "plt.scatter(dates,prices,color='black',label='Data')\n",
    "plt.plot(dates,svr_lin.predict(dates),color='green',label='linear model')\n",
    "plt.xlabel('Date')\n",
    "plt.ylabel('Price')\n",
    "plt.title('Support Vector Regression')\n",
    "plt.legend()"
   ]
  },
  {
   "cell_type": "code",
   "execution_count": null,
   "metadata": {
    "collapsed": false
   },
   "outputs": [],
   "source": [
    "svr_poly = SVR(kernel = 'poly',C=1e3,degree=2)\n",
    "svr_poly.fit(dates,prices)\n",
    "plt.scatter(dates,prices,color='black',label='Data')\n",
    "plt.plot(dates,svr_poly.predict(dates),color='blue',label='Polynomial model')\n",
    "plt.xlabel('Date')\n",
    "plt.ylabel('Price')\n",
    "plt.title('Support Vector Regression')\n",
    "plt.legend()"
   ]
  },
  {
   "cell_type": "code",
   "execution_count": null,
   "metadata": {
    "collapsed": false
   },
   "outputs": [],
   "source": [
    "svr_rbf = SVR(kernel = 'rbf',C=1e3,gamma=0.1)\n",
    "svr_rbf.fit(dates,prices)\n",
    "plt.plot(dates,svr_rbf.predict(dates),color='red',label='RBF model')\n",
    "plt.scatter(dates,prices,color='black',label='Data')\n",
    "plt.xlabel('Date')\n",
    "plt.ylabel('Price')\n",
    "plt.title('Support Vector Regression')\n",
    "# plt.legend()"
   ]
  },
  {
   "cell_type": "code",
   "execution_count": null,
   "metadata": {
    "collapsed": false
   },
   "outputs": [],
   "source": [
    "scores = cross_val_score(svr_rbf, dates, prices, cv=10, scoring='accuracy')"
   ]
  },
  {
   "cell_type": "code",
   "execution_count": null,
   "metadata": {
    "collapsed": true
   },
   "outputs": [],
   "source": []
  }
 ],
 "metadata": {
  "kernelspec": {
   "display_name": "Python 3",
   "language": "python",
   "name": "python3"
  },
  "language_info": {
   "codemirror_mode": {
    "name": "ipython",
    "version": 3
   },
   "file_extension": ".py",
   "mimetype": "text/x-python",
   "name": "python",
   "nbconvert_exporter": "python",
   "pygments_lexer": "ipython3",
   "version": "3.5.2"
  }
 },
 "nbformat": 4,
 "nbformat_minor": 1
}
