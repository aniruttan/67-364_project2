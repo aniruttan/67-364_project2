{
 "cells": [
  {
   "cell_type": "code",
   "execution_count": 1,
   "metadata": {
    "collapsed": false
   },
   "outputs": [
    {
     "name": "stderr",
     "output_type": "stream",
     "text": [
      "Using TensorFlow backend.\n"
     ]
    }
   ],
   "source": [
    "import os\n",
    "import sys\n",
    "import tweepy\n",
    "import requests\n",
    "import numpy as np\n",
    "from datetime import datetime \n",
    "from keras.models import Sequential\n",
    "from keras.layers import Dense\n",
    "from textblob import TextBlob"
   ]
  },
  {
   "cell_type": "code",
   "execution_count": 2,
   "metadata": {
    "collapsed": true
   },
   "outputs": [],
   "source": [
    "# First we login into twitter\n",
    "consumer_key = '5cXpxWC3DJxuigtgfpoTQ5uZI'\n",
    "consumer_secret = 'XpA7NWWIQRE36BqFFDnyNS3zmNPS6jDc9oYlFlPpcJxiF85uWa'\n",
    "access_token = '853065719138988033-gvru3TX4hGmlLeCfTzs6KHL9LVns4z0'\n",
    "access_token_secret = 'ruJG0bKVtdnL8DWqjYGoLCFxNPp0MZ6q5gZ1Qj9pjxFwS'\n",
    "auth = tweepy.OAuthHandler(consumer_key, consumer_secret)\n",
    "auth.set_access_token(access_token, access_token_secret)\n",
    "user = tweepy.API(auth)\n",
    "\n",
    "# Where the csv file will live\n",
    "FILE_NAME = 'historical.csv'"
   ]
  },
  {
   "cell_type": "code",
   "execution_count": 7,
   "metadata": {
    "collapsed": false
   },
   "outputs": [
    {
     "name": "stdout",
     "output_type": "stream",
     "text": [
      "United Airlines issues a new policy requiring crews to be booked sooner - CNN Money https://t.co/Qsns8Neuxp\n",
      "Sentiment(polarity=0.13636363636363635, subjectivity=0.45454545454545453)\n",
      "$UAL United Airlines changes crew flight policy after forcible removal fiasco. https://t.co/qcVNNouJ0y #Security #Fraud #Finance\n",
      "Sentiment(polarity=0.5, subjectivity=1.0)\n",
      "RT @nanaka_kawamura: 【If you are dragged by United Airlines.】ユナイテッド空港で引きずられたときの対処法【川村虹花】\n",
      "(youtube)https://t.co/5t4Ee3l1PZ https://t.co/ZfpS…\n",
      "Sentiment(polarity=0.0, subjectivity=0.0)\n",
      "RT @nanaka_kawamura: 【If you are dragged by United Airlines.】ユナイテッド空港で引きずられたときの対処法【川村虹花】\n",
      "(youtube)https://t.co/5t4Ee3l1PZ https://t.co/ZfpS…\n",
      "Sentiment(polarity=0.0, subjectivity=0.0)\n",
      "RT @PWHumor: \"Thank You for flying United Airlines\"\n",
      "https://t.co/oTh25W3MQc\n",
      "Sentiment(polarity=0.0, subjectivity=0.0)\n",
      "United Airlines’ Intense New Commercial https://t.co/1uytWzmAe8\n",
      "Sentiment(polarity=0.11212121212121212, subjectivity=0.48484848484848486)\n",
      "RT @DianeMBooth: MITT ROMNEY: \"WTF WHY DID SHE BOOK ME ON UNITED AIRLINES?\" https://t.co/UyeJigWwym\n",
      "Sentiment(polarity=-0.5, subjectivity=1.0)\n",
      "Jake Tapper talks about United Airlines this week, completely ignored Susan Rice/Obama administration surveillance news last week. #FakeNews\n",
      "Sentiment(polarity=0.05, subjectivity=0.23333333333333334)\n",
      "RT @2manyfrogz: When you're on a United Airlines flight and it's starting to look a bit full https://t.co/olRQCY7pMQ\n",
      "Sentiment(polarity=0.175, subjectivity=0.325)\n",
      "I liked a @YouTube video https://t.co/qnxTSawjPE The Truth About United Airlines &amp; David Dao\n",
      "Sentiment(polarity=0.6, subjectivity=0.8)\n",
      "#United customer service brouhaha a symptom of sharp class inequities harming all but the ultra-rich https://t.co/wESbr0oZCo\n",
      "Sentiment(polarity=-0.125, subjectivity=0.75)\n",
      "United Airlines изменила правила бронирования после скандала с пассажиром #сегодня #свежее #новости\n",
      "Sentiment(polarity=0.0, subjectivity=0.0)\n",
      "When you're on a United Airlines flight and it's starting to look a bit full https://t.co/olRQCY7pMQ\n",
      "Sentiment(polarity=0.175, subjectivity=0.325)\n",
      "RT @martymcfeels: welcome to united airlines, how tough are ya https://t.co/4vcvemX6HP\n",
      "Sentiment(polarity=0.20555555555555557, subjectivity=0.8666666666666667)\n",
      "RT @DeathStarPR: Here at @United Airlines, our friendly new customer service representative is here to help you disembark quickly and effic…\n",
      "Sentiment(polarity=0.2815656565656566, subjectivity=0.48484848484848486)\n"
     ]
    }
   ],
   "source": [
    "auth = tweepy.OAuthHandler(consumer_key, consumer_secret)\n",
    "auth.set_access_token(access_token, access_token_secret)\n",
    "\n",
    "api = tweepy.API(auth)\n",
    "startDate = datetime(2017, 4, 16, 0, 0, 0)\n",
    "endDate =   datetime(2017, 4, 16, 23, 59, 59)\n",
    "public_tweets = api.search('United Airlines')\n",
    "for tweet in public_tweets:\n",
    "    if (tweet.created_at>startDate and tweet.created_at<endDate):\n",
    "        sentiment = TextBlob(tweet.text).sentiment\n",
    "        print(tweet.text)\n",
    "        print(sentiment)"
   ]
  },
  {
   "cell_type": "code",
   "execution_count": 19,
   "metadata": {
    "collapsed": true
   },
   "outputs": [],
   "source": []
  },
  {
   "cell_type": "code",
   "execution_count": null,
   "metadata": {
    "collapsed": false
   },
   "outputs": [],
   "source": []
  },
  {
   "cell_type": "code",
   "execution_count": null,
   "metadata": {
    "collapsed": true
   },
   "outputs": [],
   "source": []
  }
 ],
 "metadata": {
  "kernelspec": {
   "display_name": "Python 3",
   "language": "python",
   "name": "python3"
  },
  "language_info": {
   "codemirror_mode": {
    "name": "ipython",
    "version": 3
   },
   "file_extension": ".py",
   "mimetype": "text/x-python",
   "name": "python",
   "nbconvert_exporter": "python",
   "pygments_lexer": "ipython3",
   "version": "3.5.2"
  }
 },
 "nbformat": 4,
 "nbformat_minor": 1
}
